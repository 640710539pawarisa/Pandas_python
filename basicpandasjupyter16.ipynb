{
 "cells": [
  {
   "cell_type": "code",
   "execution_count": 23,
   "id": "e5f5680e",
   "metadata": {},
   "outputs": [],
   "source": [
    "#อ่านเอกสาร CSV กำหนดหัวคอลัมน์\n",
    "\n",
    "\n",
    "#กด shift + enter คือ สร้าง กล่อง code ขึ้นมาใหม่ "
   ]
  },
  {
   "cell_type": "code",
   "execution_count": 24,
   "id": "3e8c80c6",
   "metadata": {},
   "outputs": [],
   "source": [
    "##Dataframe อ่านเอกสาร CSV (การกำหนด Header)\n",
    "# import pandas as pd\n",
    "# df = pd.read_csv('ตำแหน่งไฟล์')\n",
    "# cols  = ['Name','Price','Category']\n",
    "\n",
    "##ใช้ Name เป็น index \n",
    "# df = pd.read_csv('ตำแหน่งไฟล์',encoding='uft-8',names=cols,index_col='Name')\n",
    "# df.head()"
   ]
  },
  {
   "cell_type": "code",
   "execution_count": 25,
   "id": "2877f733",
   "metadata": {},
   "outputs": [],
   "source": [
    "import pandas as pd\n"
   ]
  },
  {
   "cell_type": "code",
   "execution_count": 26,
   "id": "b47a84e9",
   "metadata": {},
   "outputs": [],
   "source": [
    "#การอ่านไฟล์ csv เข้ามา\n",
    "df = pd.read_csv('product3.csv',encoding='utf-8')"
   ]
  },
  {
   "cell_type": "code",
   "execution_count": 27,
   "id": "baf0866f",
   "metadata": {},
   "outputs": [
    {
     "data": {
      "text/html": [
       "<div>\n",
       "<style scoped>\n",
       "    .dataframe tbody tr th:only-of-type {\n",
       "        vertical-align: middle;\n",
       "    }\n",
       "\n",
       "    .dataframe tbody tr th {\n",
       "        vertical-align: top;\n",
       "    }\n",
       "\n",
       "    .dataframe thead th {\n",
       "        text-align: right;\n",
       "    }\n",
       "</style>\n",
       "<table border=\"1\" class=\"dataframe\">\n",
       "  <thead>\n",
       "    <tr style=\"text-align: right;\">\n",
       "      <th></th>\n",
       "      <th>keybord</th>\n",
       "      <th>IT</th>\n",
       "      <th>1200</th>\n",
       "    </tr>\n",
       "  </thead>\n",
       "  <tbody>\n",
       "    <tr>\n",
       "      <th>0</th>\n",
       "      <td>doll</td>\n",
       "      <td>toy</td>\n",
       "      <td>900</td>\n",
       "    </tr>\n",
       "    <tr>\n",
       "      <th>1</th>\n",
       "      <td>i phone 12</td>\n",
       "      <td>smartphone</td>\n",
       "      <td>30000</td>\n",
       "    </tr>\n",
       "  </tbody>\n",
       "</table>\n",
       "</div>"
      ],
      "text/plain": [
       "      keybord          IT   1200\n",
       "0        doll         toy    900\n",
       "1  i phone 12  smartphone  30000"
      ]
     },
     "execution_count": 27,
     "metadata": {},
     "output_type": "execute_result"
    }
   ],
   "source": [
    "df "
   ]
  },
  {
   "cell_type": "code",
   "execution_count": null,
   "id": "207d83cb",
   "metadata": {},
   "outputs": [],
   "source": [
    "#กำหนดคอลัมน์ให้มันใหม่ เพราะ ผลลัพธ์หน้านี้มันเพี้ยน\n",
    "colsName = ['Name','Category','Price']\n",
    "df = pd.read_csv('product3.csv',encoding='utf-8',names=colsName)"
   ]
  },
  {
   "cell_type": "code",
   "execution_count": null,
   "id": "ace7cc12",
   "metadata": {},
   "outputs": [
    {
     "data": {
      "text/html": [
       "<div>\n",
       "<style scoped>\n",
       "    .dataframe tbody tr th:only-of-type {\n",
       "        vertical-align: middle;\n",
       "    }\n",
       "\n",
       "    .dataframe tbody tr th {\n",
       "        vertical-align: top;\n",
       "    }\n",
       "\n",
       "    .dataframe thead th {\n",
       "        text-align: right;\n",
       "    }\n",
       "</style>\n",
       "<table border=\"1\" class=\"dataframe\">\n",
       "  <thead>\n",
       "    <tr style=\"text-align: right;\">\n",
       "      <th></th>\n",
       "      <th>Name</th>\n",
       "      <th>Category</th>\n",
       "      <th>Price</th>\n",
       "    </tr>\n",
       "  </thead>\n",
       "  <tbody>\n",
       "    <tr>\n",
       "      <th>0</th>\n",
       "      <td>keybord</td>\n",
       "      <td>IT</td>\n",
       "      <td>1200</td>\n",
       "    </tr>\n",
       "    <tr>\n",
       "      <th>1</th>\n",
       "      <td>doll</td>\n",
       "      <td>toy</td>\n",
       "      <td>900</td>\n",
       "    </tr>\n",
       "    <tr>\n",
       "      <th>2</th>\n",
       "      <td>i phone 12</td>\n",
       "      <td>smartphone</td>\n",
       "      <td>30000</td>\n",
       "    </tr>\n",
       "  </tbody>\n",
       "</table>\n",
       "</div>"
      ],
      "text/plain": [
       "         Name    Category  Price\n",
       "0     keybord          IT   1200\n",
       "1        doll         toy    900\n",
       "2  i phone 12  smartphone  30000"
      ]
     },
     "execution_count": 29,
     "metadata": {},
     "output_type": "execute_result"
    }
   ],
   "source": [
    "df"
   ]
  },
  {
   "cell_type": "code",
   "execution_count": null,
   "id": "23a29ba8",
   "metadata": {},
   "outputs": [],
   "source": [
    "#แบบเปลี่ยนชุดข้อมูล\n",
    "\n",
    "#กำหนดคอลัมน์ให้มันใหม่ เพราะ ผลลัพธ์หน้านี้มันเพิ้ยน\n",
    "colsName = ['Name','Category','Price']\n",
    "df = pd.read_csv('product.csv',encoding='utf-8',names=colsName)"
   ]
  },
  {
   "cell_type": "code",
   "execution_count": 31,
   "id": "525da312",
   "metadata": {},
   "outputs": [
    {
     "data": {
      "text/html": [
       "<div>\n",
       "<style scoped>\n",
       "    .dataframe tbody tr th:only-of-type {\n",
       "        vertical-align: middle;\n",
       "    }\n",
       "\n",
       "    .dataframe tbody tr th {\n",
       "        vertical-align: top;\n",
       "    }\n",
       "\n",
       "    .dataframe thead th {\n",
       "        text-align: right;\n",
       "    }\n",
       "</style>\n",
       "<table border=\"1\" class=\"dataframe\">\n",
       "  <thead>\n",
       "    <tr style=\"text-align: right;\">\n",
       "      <th></th>\n",
       "      <th>Name</th>\n",
       "      <th>Category</th>\n",
       "      <th>Price</th>\n",
       "    </tr>\n",
       "  </thead>\n",
       "  <tbody>\n",
       "    <tr>\n",
       "      <th>NaN</th>\n",
       "      <td>Name</td>\n",
       "      <td>Category</td>\n",
       "      <td>Price</td>\n",
       "    </tr>\n",
       "    <tr>\n",
       "      <th>0.0</th>\n",
       "      <td>keybord</td>\n",
       "      <td>IT</td>\n",
       "      <td>1200</td>\n",
       "    </tr>\n",
       "    <tr>\n",
       "      <th>1.0</th>\n",
       "      <td>doll</td>\n",
       "      <td>toy</td>\n",
       "      <td>900</td>\n",
       "    </tr>\n",
       "    <tr>\n",
       "      <th>2.0</th>\n",
       "      <td>i phone 12</td>\n",
       "      <td>smartphone</td>\n",
       "      <td>30000</td>\n",
       "    </tr>\n",
       "  </tbody>\n",
       "</table>\n",
       "</div>"
      ],
      "text/plain": [
       "           Name    Category  Price\n",
       "NaN        Name    Category  Price\n",
       "0.0     keybord          IT   1200\n",
       "1.0        doll         toy    900\n",
       "2.0  i phone 12  smartphone  30000"
      ]
     },
     "execution_count": 31,
     "metadata": {},
     "output_type": "execute_result"
    }
   ],
   "source": [
    "df"
   ]
  },
  {
   "cell_type": "code",
   "execution_count": null,
   "id": "3c4466c7",
   "metadata": {},
   "outputs": [],
   "source": [
    "#จากที่เห็นจะสรุปได้ว่า การอ่านไฟล์ csv แบบกำหนดคอลัมน์นั้นเหมาะกับไฟล์ที่ไม่มีชื่อคอลัมน์มาตั้งแต่แรกแล้วเราเอามากำหนดที่หลัง****"
   ]
  }
 ],
 "metadata": {
  "kernelspec": {
   "display_name": "Python (MyEnv)",
   "language": "python",
   "name": "myenv"
  },
  "language_info": {
   "codemirror_mode": {
    "name": "ipython",
    "version": 3
   },
   "file_extension": ".py",
   "mimetype": "text/x-python",
   "name": "python",
   "nbconvert_exporter": "python",
   "pygments_lexer": "ipython3",
   "version": "3.13.3"
  }
 },
 "nbformat": 4,
 "nbformat_minor": 5
}
