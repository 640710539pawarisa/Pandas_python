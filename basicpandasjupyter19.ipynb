{
 "cells": [
  {
   "cell_type": "code",
   "execution_count": null,
   "id": "d6fe8cbc",
   "metadata": {},
   "outputs": [],
   "source": [
    "#ชนิดข้อมูลและค่าสถิติ"
   ]
  },
  {
   "cell_type": "code",
   "execution_count": null,
   "id": "b7c6d488",
   "metadata": {},
   "outputs": [],
   "source": [
    "#ชนิดข้อมูล\n",
    "# object  คือ ชุดข้อความ(String),Unicode\n",
    "# int64 คือ จำนวนเต็ม\n",
    "# float64 คือ ทศนิยม\n",
    "# Bool คือ ค่าทางตรรกศาสตร์(True/False)\n",
    "# datetime64 คือวันเวลา\n",
    "# timedelta[ns] คือค่าแตกต่างระหว่าง datetime\n",
    "# category คือ List ของข้อความ"
   ]
  },
  {
   "cell_type": "code",
   "execution_count": null,
   "id": "ea01e3ae",
   "metadata": {},
   "outputs": [],
   "source": []
  },
  {
   "cell_type": "code",
   "execution_count": null,
   "id": "c900b9c6",
   "metadata": {},
   "outputs": [],
   "source": []
  },
  {
   "cell_type": "code",
   "execution_count": null,
   "id": "6bc05634",
   "metadata": {},
   "outputs": [],
   "source": []
  }
 ],
 "metadata": {
  "kernelspec": {
   "display_name": "Python (MyEnv)",
   "language": "python",
   "name": "myenv"
  },
  "language_info": {
   "codemirror_mode": {
    "name": "ipython",
    "version": 3
   },
   "file_extension": ".py",
   "mimetype": "text/x-python",
   "name": "python",
   "nbconvert_exporter": "python",
   "pygments_lexer": "ipython3",
   "version": "3.13.3"
  }
 },
 "nbformat": 4,
 "nbformat_minor": 5
}
