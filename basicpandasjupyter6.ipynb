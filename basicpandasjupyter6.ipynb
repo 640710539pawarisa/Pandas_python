{
 "cells": [
  {
   "cell_type": "code",
   "execution_count": null,
   "id": "6d0b1b08",
   "metadata": {},
   "outputs": [],
   "source": [
    "#การสร้าง series ใน jupyter\n"
   ]
  },
  {
   "cell_type": "code",
   "execution_count": null,
   "id": "aa9e2fba",
   "metadata": {},
   "outputs": [],
   "source": [
    "#การเรียกใช้สิ่งที่จำเป็น\n",
    "import numpy as np #อันนี้ไม่จำเป็น ที่ต้องใช้ในหัวข้อนี้\n",
    "import pandas as pd "
   ]
  },
  {
   "cell_type": "code",
   "execution_count": null,
   "id": "d649af4f",
   "metadata": {},
   "outputs": [],
   "source": [
    "#สร้าง กลุ่มข้อมูลเพื่อนำไปสร้าง series\n",
    "data = {'ae':'name','age':22 ,'university':'silpakorn'}\n",
    "\n",
    "#สร้าง series\n",
    "ps = pd.Series(data)"
   ]
  },
  {
   "cell_type": "code",
   "execution_count": null,
   "id": "9d379da7",
   "metadata": {},
   "outputs": [
    {
     "name": "stdout",
     "output_type": "stream",
     "text": [
      "ae                 name\n",
      "age                  22\n",
      "university    silpakorn\n",
      "dtype: object\n"
     ]
    }
   ],
   "source": [
    "print(ps)"
   ]
  },
  {
   "cell_type": "code",
   "execution_count": 1,
   "id": "cab9ead9",
   "metadata": {},
   "outputs": [],
   "source": [
    "#หรือ ทำแบบสั้นๆแบบนี้ก็ได้\n",
    "import pandas as pd\n",
    "ps2 = pd.Series([10,20,30,40])"
   ]
  },
  {
   "cell_type": "code",
   "execution_count": null,
   "id": "f2996222",
   "metadata": {},
   "outputs": [
    {
     "data": {
      "text/plain": [
       "0    10\n",
       "1    20\n",
       "2    30\n",
       "3    40\n",
       "dtype: int64"
      ]
     },
     "execution_count": 2,
     "metadata": {},
     "output_type": "execute_result"
    }
   ],
   "source": [
    "ps2 #แสดงผลแบบนี้ได้เลย"
   ]
  },
  {
   "cell_type": "code",
   "execution_count": null,
   "id": "dace2fe8",
   "metadata": {},
   "outputs": [
    {
     "data": {
      "text/plain": [
       "np.int64(10)"
      ]
     },
     "execution_count": 3,
     "metadata": {},
     "output_type": "execute_result"
    }
   ],
   "source": [
    "#เข้าถึง index ต่างๆได้เลย เช่น\n",
    "ps2[1]\n"
   ]
  },
  {
   "cell_type": "code",
   "execution_count": 4,
   "id": "0fd25809",
   "metadata": {},
   "outputs": [
    {
     "data": {
      "text/plain": [
       "np.int64(30)"
      ]
     },
     "execution_count": 4,
     "metadata": {},
     "output_type": "execute_result"
    }
   ],
   "source": [
    "ps2[2]"
   ]
  },
  {
   "cell_type": "code",
   "execution_count": 7,
   "id": "2d82bc34",
   "metadata": {},
   "outputs": [
    {
     "name": "stdout",
     "output_type": "stream",
     "text": [
      "20 ผลลัพธ์ 1\n",
      "30 ผลลัพธ์ 2\n"
     ]
    }
   ],
   "source": [
    "print(ps2[1],'ผลลัพธ์ 1')\n",
    "print(ps2[2],'ผลลัพธ์ 2')"
   ]
  }
 ],
 "metadata": {
  "kernelspec": {
   "display_name": "Python (MyEnv)",
   "language": "python",
   "name": "myenv"
  },
  "language_info": {
   "codemirror_mode": {
    "name": "ipython",
    "version": 3
   },
   "file_extension": ".py",
   "mimetype": "text/x-python",
   "name": "python",
   "nbconvert_exporter": "python",
   "pygments_lexer": "ipython3",
   "version": "3.13.3"
  }
 },
 "nbformat": 4,
 "nbformat_minor": 5
}
