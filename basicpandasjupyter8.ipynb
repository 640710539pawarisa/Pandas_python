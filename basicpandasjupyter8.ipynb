{
 "cells": [
  {
   "cell_type": "code",
   "execution_count": 18,
   "id": "72616715",
   "metadata": {},
   "outputs": [],
   "source": [
    "#สร้าง DataFrame จาก List และ Tuple\n",
    "#โครงสร้างข้อมูลของ pandas | Dataframe\n",
    "#ส่วนอธิบาย dataframe เป็นโครงสร้างข้อมูล แบบ Array 2 มิติ(ลักษณะเป็นตารางประกอบด้วย 2 คอมลัมน์ขึ้นไป)\n",
    "#หรือการนำ Series หลายๆอันมาเรียงต่อกัน เช่น ข้อมูลคะแนนนักเรียน ข้อมูลสินค้า ข้อมูลประชากร เป็นต้น\n",
    "\n"
   ]
  },
  {
   "cell_type": "code",
   "execution_count": 19,
   "id": "034e28ab",
   "metadata": {},
   "outputs": [],
   "source": [
    "#การสร้าง dataframe มีหลายวิธ๊\n",
    "#Tuple และ List \n",
    "#Series \n",
    "#Numpy\n",
    "#CSV"
   ]
  },
  {
   "cell_type": "code",
   "execution_count": 20,
   "id": "b5d58fbc",
   "metadata": {},
   "outputs": [],
   "source": [
    "#แบบ Tuple และ List "
   ]
  },
  {
   "cell_type": "code",
   "execution_count": 21,
   "id": "9247db66",
   "metadata": {},
   "outputs": [],
   "source": [
    "import pandas as pd  #เรียกใช้งาน pandas เพื่อจัดการข้อมูล\n"
   ]
  },
  {
   "cell_type": "code",
   "execution_count": 22,
   "id": "21ed56f8",
   "metadata": {},
   "outputs": [],
   "source": [
    "#สร้าง list และ tuple\n",
    "data_ls = [10,20,'Ae','10.05','ทุเรียน'] #สร้าง list #list คือ อาเรย์ที่สามารถเปลี่ยนได้   []\n",
    "data_tp = (10,20,'Ae','10.05','ทุเรียน') #สร้าง tuple  #tuple คือ อาเรย์ที่ไม่สามารถเปลี่ยนได้ ()"
   ]
  },
  {
   "cell_type": "code",
   "execution_count": 23,
   "id": "75f00b22",
   "metadata": {},
   "outputs": [],
   "source": [
    "#สร้าง dataframe จาก list และ tuple \n",
    "df = pd.DataFrame(data_ls)\n",
    "df2 = pd.DataFrame(data_tp)"
   ]
  },
  {
   "cell_type": "code",
   "execution_count": 24,
   "id": "4fb13ee7",
   "metadata": {},
   "outputs": [
    {
     "name": "stdout",
     "output_type": "stream",
     "text": [
      "         0\n",
      "0       10\n",
      "1       20\n",
      "2       Ae\n",
      "3    10.05\n",
      "4  ทุเรียน\n"
     ]
    }
   ],
   "source": [
    "#แสดง dataframe\n",
    "print(df)"
   ]
  },
  {
   "cell_type": "code",
   "execution_count": 25,
   "id": "9f87a6b6",
   "metadata": {},
   "outputs": [
    {
     "name": "stdout",
     "output_type": "stream",
     "text": [
      "         0\n",
      "0       10\n",
      "1       20\n",
      "2       Ae\n",
      "3    10.05\n",
      "4  ทุเรียน\n"
     ]
    }
   ],
   "source": [
    "print(df2)"
   ]
  },
  {
   "cell_type": "code",
   "execution_count": 26,
   "id": "ce8a2520",
   "metadata": {},
   "outputs": [],
   "source": [
    "#ถ้าเราอยากเปลี่ยนชื่อคอลัมน์ละ\n",
    "#เราสามารถสร้าง dataframe แบบกำหนดคอลัมน์"
   ]
  },
  {
   "cell_type": "code",
   "execution_count": 27,
   "id": "b1cabe78",
   "metadata": {},
   "outputs": [],
   "source": [
    "#การสร้าง dataframe แบบกำหนดคอลัมน์\n",
    "#import pandas as pd\n",
    "#data = [15,20,23,30]\n",
    "#cols = ['Age']\n",
    "#df = DataFrame"
   ]
  },
  {
   "cell_type": "code",
   "execution_count": 28,
   "id": "6828df06",
   "metadata": {},
   "outputs": [
    {
     "name": "stdout",
     "output_type": "stream",
     "text": [
      "         0\n",
      "0       10\n",
      "1       20\n",
      "2       Ae\n",
      "3    10.05\n",
      "4  ทุเรียน\n"
     ]
    }
   ],
   "source": [
    "#เราจะสร้าง colsขึ้นมาเพื่อ ตั้งชื่อ คอลัมน์\n",
    "\n",
    "#จะแสดงแบบแรกให้ดูก่อน ว่า ชื่อคมลัมน์ว่าอะไร\n",
    "print(df)\n",
    "#ผลลัพธ์ที่ได้ คือ ชื่อ 0"
   ]
  },
  {
   "cell_type": "code",
   "execution_count": 29,
   "id": "b58bfb05",
   "metadata": {},
   "outputs": [
    {
     "name": "stdout",
     "output_type": "stream",
     "text": [
      "      type\n",
      "0       10\n",
      "1       20\n",
      "2       Ae\n",
      "3    10.05\n",
      "4  ทุเรียน\n"
     ]
    }
   ],
   "source": [
    "#ถ้าอยากตั้งชื่อคอลัมน์มันว่า type ละ\n",
    "cols = ['type'] #ตั้งชื่อคอลัมน์ว่า type ให้เก้บไว้ในตัวแปร cols เพื่อความเข้าใจง่าย ควรตั้งชื่อตัวแปรให้สื่อความหมาย\n",
    "\n",
    "df = pd.DataFrame(data_ls ,columns=cols) #คือการกำหนด คอลัมน์ให้เป็นชื่อ type ผ่านตัวแปรชื่อ cols\n",
    "# ชื่อตัวแปร = ชื่อเล่นpandas.DataFrame(ชุดข้อมูลที่เราต้องการ ,columns = สิ่งที่เราต้องการทำที่เรากำหนดผ่านตัวแปร เอามาใส่ตรงนี้ได้เลย)\n",
    "\n",
    "#แสดงดูสิ ว่า ชื่อ คอลัมน์เปลี่ยนยัง \n",
    "print(df)"
   ]
  }
 ],
 "metadata": {
  "kernelspec": {
   "display_name": "Python (MyEnv)",
   "language": "python",
   "name": "myenv"
  },
  "language_info": {
   "codemirror_mode": {
    "name": "ipython",
    "version": 3
   },
   "file_extension": ".py",
   "mimetype": "text/x-python",
   "name": "python",
   "nbconvert_exporter": "python",
   "pygments_lexer": "ipython3",
   "version": "3.13.3"
  }
 },
 "nbformat": 4,
 "nbformat_minor": 5
}
