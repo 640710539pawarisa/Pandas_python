{
 "cells": [
  {
   "cell_type": "code",
   "execution_count": 10,
   "id": "402cf9dc",
   "metadata": {},
   "outputs": [],
   "source": [
    "#สร้าง DataFrame จาก List ด้วย zip\n",
    "\n",
    "#zip คือ การบีบอัดข้อมูลใน list ให้อยู่ในกลุ่มเดียวกัน"
   ]
  },
  {
   "cell_type": "code",
   "execution_count": 11,
   "id": "51e25773",
   "metadata": {},
   "outputs": [],
   "source": [
    "#การสร้าง DataFrame จาก List หลายตัวด้วย zip\n",
    "#import pandas as pd\n",
    "#item1=['คีย์บอร์ด','อุปกรณ์คอม',1200]\n",
    "#item2=['ตุ๊กตาของเล่น','ของเล่น',900]\n",
    "#item1=['iphone i2 ','มือถือ',30000]\n",
    "\n",
    "# data = list(zip(item1,item2,item3))\n",
    "# cols =['Name','Category','Price']\n",
    "# df = pd.DataFrame(data , columns=cols)\n"
   ]
  },
  {
   "cell_type": "code",
   "execution_count": 12,
   "id": "3095549f",
   "metadata": {},
   "outputs": [],
   "source": [
    "#เรียกใช้งาน pandas\n",
    "import pandas as pd"
   ]
  },
  {
   "cell_type": "code",
   "execution_count": 13,
   "id": "580adfab",
   "metadata": {},
   "outputs": [],
   "source": [
    "#สร้าง กลุ่มข้อมูลด้วย list  เป็นหลายๆ กลุ่ม แล้วค่อย zip \n",
    "\n",
    "product1=['คีย์บอร์ด','อุปกรณ์คอม',1200]\n",
    "product2=['ตุ๊กตาของเล่น','ของเล่น',900]\n",
    "product3=['iphone i2 ','มือถือ',30000]"
   ]
  },
  {
   "cell_type": "code",
   "execution_count": 14,
   "id": "34831d34",
   "metadata": {},
   "outputs": [],
   "source": [
    "#รวมร่างกันด้วยการ .ใส่ list ก่อนแล้วค่อย zip\n",
    "\n",
    "datas = list(zip(product1,product2,product3))"
   ]
  },
  {
   "cell_type": "code",
   "execution_count": 15,
   "id": "e797bd2d",
   "metadata": {},
   "outputs": [],
   "source": [
    "#สร้างหัวตาราง และตั้งชื่อ คอลัมน์\n",
    "cols = ['Name','Category','Price']"
   ]
  },
  {
   "cell_type": "code",
   "execution_count": 16,
   "id": "7ba35df6",
   "metadata": {},
   "outputs": [],
   "source": [
    "#สร้างตาราง\n",
    "df = pd.DataFrame(datas,columns=cols)"
   ]
  },
  {
   "cell_type": "code",
   "execution_count": 17,
   "id": "1455101b",
   "metadata": {},
   "outputs": [
    {
     "data": {
      "text/html": [
       "<div>\n",
       "<style scoped>\n",
       "    .dataframe tbody tr th:only-of-type {\n",
       "        vertical-align: middle;\n",
       "    }\n",
       "\n",
       "    .dataframe tbody tr th {\n",
       "        vertical-align: top;\n",
       "    }\n",
       "\n",
       "    .dataframe thead th {\n",
       "        text-align: right;\n",
       "    }\n",
       "</style>\n",
       "<table border=\"1\" class=\"dataframe\">\n",
       "  <thead>\n",
       "    <tr style=\"text-align: right;\">\n",
       "      <th></th>\n",
       "      <th>Name</th>\n",
       "      <th>Category</th>\n",
       "      <th>Price</th>\n",
       "    </tr>\n",
       "  </thead>\n",
       "  <tbody>\n",
       "    <tr>\n",
       "      <th>0</th>\n",
       "      <td>คีย์บอร์ด</td>\n",
       "      <td>ตุ๊กตาของเล่น</td>\n",
       "      <td>iphone i2</td>\n",
       "    </tr>\n",
       "    <tr>\n",
       "      <th>1</th>\n",
       "      <td>อุปกรณ์คอม</td>\n",
       "      <td>ของเล่น</td>\n",
       "      <td>มือถือ</td>\n",
       "    </tr>\n",
       "    <tr>\n",
       "      <th>2</th>\n",
       "      <td>1200</td>\n",
       "      <td>900</td>\n",
       "      <td>30000</td>\n",
       "    </tr>\n",
       "  </tbody>\n",
       "</table>\n",
       "</div>"
      ],
      "text/plain": [
       "         Name       Category       Price\n",
       "0   คีย์บอร์ด  ตุ๊กตาของเล่น  iphone i2 \n",
       "1  อุปกรณ์คอม        ของเล่น      มือถือ\n",
       "2        1200            900       30000"
      ]
     },
     "execution_count": 17,
     "metadata": {},
     "output_type": "execute_result"
    }
   ],
   "source": [
    "#แสดงตาราง\n",
    "df  "
   ]
  },
  {
   "cell_type": "code",
   "execution_count": 18,
   "id": "89636207",
   "metadata": {},
   "outputs": [],
   "source": [
    "#จะเห็นว่า มันแสดงตารางลำดับผิด เช่น  Name จะแสดง คีย์บอร์ด อุปกรณ์คอม 1200 เรียงลงมา ซึ่งจริงๆควรแสดง คีย์บอร์ด ตุ๊กตาของเล่น , iphone 12\n",
    "#ต้องแก้ตั้งแต่เราสร้าง list ขึ้นมาเป็น \n",
    "\n",
    "Name =['คีย์บอร์ด','ตุ๊กตาของเล่น','iphone i2']\n",
    "Category =['อุปกรณ์คอม','ของเล่น','มือถือ']\n",
    "Price =[1200,900,30000]"
   ]
  },
  {
   "cell_type": "code",
   "execution_count": 19,
   "id": "c113c5cd",
   "metadata": {},
   "outputs": [],
   "source": [
    "#สร้างตาราง และตั้งชื่อหัวตาราง\n",
    "cols = ['Name' , 'Category' , 'Price']\n"
   ]
  },
  {
   "cell_type": "code",
   "execution_count": null,
   "id": "3e26c3dc",
   "metadata": {},
   "outputs": [],
   "source": [
    "#รวมร่างกันด้วยการ .ใส่ list ก่อนแล้วค่อย zip\n",
    "\n",
    "df = pd.DataFrame(list(zip(Name,Category,Price)),columns=cols)\n"
   ]
  },
  {
   "cell_type": "code",
   "execution_count": 21,
   "id": "20d9936f",
   "metadata": {},
   "outputs": [
    {
     "data": {
      "text/html": [
       "<div>\n",
       "<style scoped>\n",
       "    .dataframe tbody tr th:only-of-type {\n",
       "        vertical-align: middle;\n",
       "    }\n",
       "\n",
       "    .dataframe tbody tr th {\n",
       "        vertical-align: top;\n",
       "    }\n",
       "\n",
       "    .dataframe thead th {\n",
       "        text-align: right;\n",
       "    }\n",
       "</style>\n",
       "<table border=\"1\" class=\"dataframe\">\n",
       "  <thead>\n",
       "    <tr style=\"text-align: right;\">\n",
       "      <th></th>\n",
       "      <th>Name</th>\n",
       "      <th>Category</th>\n",
       "      <th>Price</th>\n",
       "    </tr>\n",
       "  </thead>\n",
       "  <tbody>\n",
       "    <tr>\n",
       "      <th>0</th>\n",
       "      <td>คีย์บอร์ด</td>\n",
       "      <td>อุปกรณ์คอม</td>\n",
       "      <td>1200</td>\n",
       "    </tr>\n",
       "    <tr>\n",
       "      <th>1</th>\n",
       "      <td>ตุ๊กตาของเล่น</td>\n",
       "      <td>ของเล่น</td>\n",
       "      <td>900</td>\n",
       "    </tr>\n",
       "    <tr>\n",
       "      <th>2</th>\n",
       "      <td>iphone i2</td>\n",
       "      <td>มือถือ</td>\n",
       "      <td>30000</td>\n",
       "    </tr>\n",
       "  </tbody>\n",
       "</table>\n",
       "</div>"
      ],
      "text/plain": [
       "            Name    Category  Price\n",
       "0      คีย์บอร์ด  อุปกรณ์คอม   1200\n",
       "1  ตุ๊กตาของเล่น     ของเล่น    900\n",
       "2      iphone i2      มือถือ  30000"
      ]
     },
     "execution_count": 21,
     "metadata": {},
     "output_type": "execute_result"
    }
   ],
   "source": [
    "df"
   ]
  },
  {
   "cell_type": "code",
   "execution_count": null,
   "id": "3f803d6b",
   "metadata": {},
   "outputs": [],
   "source": [
    "#สรุป\n",
    "#การสร้าง zip ถ้าเรามอง list แต่ละตัว มันแสดงผลเป้น แนวนอน\n",
    "#ส่วนถ้าเอาสร้างเป็นก้อน dataframe ธรรมดา มันจะแสดงผลเป็นแนวตั้ง\n",
    "#การใช้ตัว zip คือการนำ list ที่ข้อมูลคล่ายคลึงกัน นำมาสร้างเป้นตาราง เช่น ชื่อกลุ่มชื่อสินค้า "
   ]
  }
 ],
 "metadata": {
  "kernelspec": {
   "display_name": "Python (MyEnv)",
   "language": "python",
   "name": "myenv"
  },
  "language_info": {
   "codemirror_mode": {
    "name": "ipython",
    "version": 3
   },
   "file_extension": ".py",
   "mimetype": "text/x-python",
   "name": "python",
   "nbconvert_exporter": "python",
   "pygments_lexer": "ipython3",
   "version": "3.13.3"
  }
 },
 "nbformat": 4,
 "nbformat_minor": 5
}
