{
 "cells": [
  {
   "cell_type": "code",
   "execution_count": 1,
   "id": "a5fd2a47",
   "metadata": {},
   "outputs": [],
   "source": [
    "#การสร้าง DataFrame จาก List หลายมิติ\n",
    "#list แบบหลายมิติ คือ การเขียน list แบบซ้อน list "
   ]
  }
 ],
 "metadata": {
  "kernelspec": {
   "display_name": "Python (MyEnv)",
   "language": "python",
   "name": "myenv"
  },
  "language_info": {
   "codemirror_mode": {
    "name": "ipython",
    "version": 3
   },
   "file_extension": ".py",
   "mimetype": "text/x-python",
   "name": "python",
   "nbconvert_exporter": "python",
   "pygments_lexer": "ipython3",
   "version": "3.13.3"
  }
 },
 "nbformat": 4,
 "nbformat_minor": 5
}
