{
 "cells": [
  {
   "cell_type": "code",
   "execution_count": 27,
   "id": "a5fd2a47",
   "metadata": {},
   "outputs": [],
   "source": [
    "#การสร้าง DataFrame จาก List หลายมิติ\n",
    "#list แบบหลายมิติ คือ การเขียน list แบบซ้อน list "
   ]
  },
  {
   "cell_type": "code",
   "execution_count": 28,
   "id": "2bf24b27",
   "metadata": {},
   "outputs": [],
   "source": [
    "#ตัวโครงสร้าง DataFrame จาก List แบบหลายมิติ\n",
    "#import pandas as pd\n",
    "\n",
    "#ข้างในตัวแปร data จะมีข้อมูล list อยู่ข้างใน ตัวครอบที่เรียกว่า บัคเกต []\n",
    "# data = [\n",
    "#     ['คีย์บอร์ด','อุปกรณ์คอม',1200 ],\n",
    "#     ['ตุ๊กตา','ของเล่น',900],\n",
    "#     ['iphone 12','มือถือ',3000]\n",
    "# ]\n",
    "\n",
    "#ถัดมาเราจะสร้าง หัวตารางขึ้นมาที่ชื่อ cols เพื่อที่สร้างหัวตารางและตั้งชื่อต่างๆที่คอลัมน์ต่างๆ                               \n",
    "# cols = ['Name','Category','Price']\n",
    "#และสร้างเป็น กลุ่ม dataframe ขึ้นมาเพื่อสร้างตารางสวยๆจาก list ที่เราสร้างข้างต้น\n",
    "# df = pd.DataFrame(data,columns=cols)\n"
   ]
  },
  {
   "cell_type": "code",
   "execution_count": 29,
   "id": "8632dc76",
   "metadata": {},
   "outputs": [],
   "source": [
    "#เรียกใช้งาน pandas\n",
    "import pandas as pd\n",
    "\n",
    "#กด shift + enter คือ สร้าง กล่อง code ขึ้นมาใหม่ หรือ มันคือการกด run "
   ]
  },
  {
   "cell_type": "code",
   "execution_count": null,
   "id": "0d02b972",
   "metadata": {},
   "outputs": [],
   "source": [
    "#สร้าง list ซ้อน list  คือ data = [[],[]]\n",
    "data = [ ['คีย์บอร์ด','IT',4000],['ตุ๊กตา','ของเล่น',500],['เมาส์','IT',300] ]"
   ]
  },
  {
   "cell_type": "code",
   "execution_count": 31,
   "id": "8740b50f",
   "metadata": {},
   "outputs": [],
   "source": [
    "#สร้าง dataframe เพื่อสร้างตารางสวยๆขาก list ที่เราสร้างมาข้างต้น\n",
    "df = pd.DataFrame(data)"
   ]
  },
  {
   "cell_type": "code",
   "execution_count": 32,
   "id": "e817d087",
   "metadata": {},
   "outputs": [
    {
     "data": {
      "text/html": [
       "<div>\n",
       "<style scoped>\n",
       "    .dataframe tbody tr th:only-of-type {\n",
       "        vertical-align: middle;\n",
       "    }\n",
       "\n",
       "    .dataframe tbody tr th {\n",
       "        vertical-align: top;\n",
       "    }\n",
       "\n",
       "    .dataframe thead th {\n",
       "        text-align: right;\n",
       "    }\n",
       "</style>\n",
       "<table border=\"1\" class=\"dataframe\">\n",
       "  <thead>\n",
       "    <tr style=\"text-align: right;\">\n",
       "      <th></th>\n",
       "      <th>0</th>\n",
       "      <th>1</th>\n",
       "      <th>2</th>\n",
       "    </tr>\n",
       "  </thead>\n",
       "  <tbody>\n",
       "    <tr>\n",
       "      <th>0</th>\n",
       "      <td>คีย์บอร์ด</td>\n",
       "      <td>IT</td>\n",
       "      <td>4000</td>\n",
       "    </tr>\n",
       "    <tr>\n",
       "      <th>1</th>\n",
       "      <td>ตุ๊กตา</td>\n",
       "      <td>ของเล่น</td>\n",
       "      <td>500</td>\n",
       "    </tr>\n",
       "    <tr>\n",
       "      <th>2</th>\n",
       "      <td>เมาส์</td>\n",
       "      <td>IT</td>\n",
       "      <td>300</td>\n",
       "    </tr>\n",
       "  </tbody>\n",
       "</table>\n",
       "</div>"
      ],
      "text/plain": [
       "           0        1     2\n",
       "0  คีย์บอร์ด       IT  4000\n",
       "1     ตุ๊กตา  ของเล่น   500\n",
       "2      เมาส์       IT   300"
      ]
     },
     "execution_count": 32,
     "metadata": {},
     "output_type": "execute_result"
    }
   ],
   "source": [
    "df"
   ]
  },
  {
   "cell_type": "code",
   "execution_count": 33,
   "id": "6e6ef40d",
   "metadata": {},
   "outputs": [
    {
     "name": "stdout",
     "output_type": "stream",
     "text": [
      "           0        1     2\n",
      "0  คีย์บอร์ด       IT  4000\n",
      "1     ตุ๊กตา  ของเล่น   500\n",
      "2      เมาส์       IT   300\n"
     ]
    }
   ],
   "source": [
    "print(df)"
   ]
  },
  {
   "cell_type": "code",
   "execution_count": 34,
   "id": "c0f37b80",
   "metadata": {},
   "outputs": [],
   "source": [
    "#หากต้องการ เปลี่ยนชื่อ columns ให้สร้าง cols และตั้งชื่อก่อนแล้วค่อยสร้าง dataframe หรือสร้างตารางสวยๆ และกำหนด columns = cols "
   ]
  },
  {
   "cell_type": "code",
   "execution_count": 35,
   "id": "da7cd0b8",
   "metadata": {},
   "outputs": [],
   "source": [
    "#ต้องการเปลี่ยนชื่อคอลัมน์\n",
    "cols =['Name','Category','Price']\n"
   ]
  },
  {
   "cell_type": "code",
   "execution_count": 36,
   "id": "0ad3cf3f",
   "metadata": {},
   "outputs": [],
   "source": [
    "df = pd.DataFrame(data , columns= cols) "
   ]
  },
  {
   "cell_type": "code",
   "execution_count": 37,
   "id": "06292c27",
   "metadata": {},
   "outputs": [
    {
     "data": {
      "text/html": [
       "<div>\n",
       "<style scoped>\n",
       "    .dataframe tbody tr th:only-of-type {\n",
       "        vertical-align: middle;\n",
       "    }\n",
       "\n",
       "    .dataframe tbody tr th {\n",
       "        vertical-align: top;\n",
       "    }\n",
       "\n",
       "    .dataframe thead th {\n",
       "        text-align: right;\n",
       "    }\n",
       "</style>\n",
       "<table border=\"1\" class=\"dataframe\">\n",
       "  <thead>\n",
       "    <tr style=\"text-align: right;\">\n",
       "      <th></th>\n",
       "      <th>Name</th>\n",
       "      <th>Category</th>\n",
       "      <th>Price</th>\n",
       "    </tr>\n",
       "  </thead>\n",
       "  <tbody>\n",
       "    <tr>\n",
       "      <th>0</th>\n",
       "      <td>คีย์บอร์ด</td>\n",
       "      <td>IT</td>\n",
       "      <td>4000</td>\n",
       "    </tr>\n",
       "    <tr>\n",
       "      <th>1</th>\n",
       "      <td>ตุ๊กตา</td>\n",
       "      <td>ของเล่น</td>\n",
       "      <td>500</td>\n",
       "    </tr>\n",
       "    <tr>\n",
       "      <th>2</th>\n",
       "      <td>เมาส์</td>\n",
       "      <td>IT</td>\n",
       "      <td>300</td>\n",
       "    </tr>\n",
       "  </tbody>\n",
       "</table>\n",
       "</div>"
      ],
      "text/plain": [
       "        Name Category  Price\n",
       "0  คีย์บอร์ด       IT   4000\n",
       "1     ตุ๊กตา  ของเล่น    500\n",
       "2      เมาส์       IT    300"
      ]
     },
     "execution_count": 37,
     "metadata": {},
     "output_type": "execute_result"
    }
   ],
   "source": [
    "df"
   ]
  },
  {
   "cell_type": "code",
   "execution_count": null,
   "id": "6e4e75ef",
   "metadata": {},
   "outputs": [],
   "source": []
  }
 ],
 "metadata": {
  "kernelspec": {
   "display_name": "Python (MyEnv)",
   "language": "python",
   "name": "myenv"
  },
  "language_info": {
   "codemirror_mode": {
    "name": "ipython",
    "version": 3
   },
   "file_extension": ".py",
   "mimetype": "text/x-python",
   "name": "python",
   "nbconvert_exporter": "python",
   "pygments_lexer": "ipython3",
   "version": "3.13.3"
  }
 },
 "nbformat": 4,
 "nbformat_minor": 5
}
