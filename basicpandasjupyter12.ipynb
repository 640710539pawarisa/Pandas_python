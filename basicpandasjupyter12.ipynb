{
 "cells": [
  {
   "cell_type": "code",
   "execution_count": 1,
   "id": "7482f232",
   "metadata": {},
   "outputs": [],
   "source": [
    "#สร้าง DataFrame จาก Series"
   ]
  },
  {
   "cell_type": "code",
   "execution_count": null,
   "id": "59374d35",
   "metadata": {},
   "outputs": [
    {
     "data": {
      "text/html": [
       "<div>\n",
       "<style scoped>\n",
       "    .dataframe tbody tr th:only-of-type {\n",
       "        vertical-align: middle;\n",
       "    }\n",
       "\n",
       "    .dataframe tbody tr th {\n",
       "        vertical-align: top;\n",
       "    }\n",
       "\n",
       "    .dataframe thead th {\n",
       "        text-align: right;\n",
       "    }\n",
       "</style>\n",
       "<table border=\"1\" class=\"dataframe\">\n",
       "  <thead>\n",
       "    <tr style=\"text-align: right;\">\n",
       "      <th></th>\n",
       "      <th>Name</th>\n",
       "      <th>Category</th>\n",
       "      <th>Price</th>\n",
       "    </tr>\n",
       "  </thead>\n",
       "  <tbody>\n",
       "    <tr>\n",
       "      <th>0</th>\n",
       "      <td>keybord</td>\n",
       "      <td>IT</td>\n",
       "      <td>1200</td>\n",
       "    </tr>\n",
       "    <tr>\n",
       "      <th>1</th>\n",
       "      <td>doll</td>\n",
       "      <td>toy</td>\n",
       "      <td>900</td>\n",
       "    </tr>\n",
       "    <tr>\n",
       "      <th>2</th>\n",
       "      <td>i phone 12</td>\n",
       "      <td>smartphone</td>\n",
       "      <td>30000</td>\n",
       "    </tr>\n",
       "  </tbody>\n",
       "</table>\n",
       "</div>"
      ],
      "text/plain": [
       "         Name    Category  Price\n",
       "0     keybord          IT   1200\n",
       "1        doll         toy    900\n",
       "2  i phone 12  smartphone  30000"
      ]
     },
     "execution_count": 2,
     "metadata": {},
     "output_type": "execute_result"
    }
   ],
   "source": [
    "#การสร้าง DataFrame จาก Series\n",
    "# import pandas as pd\n",
    "# name = ['keybord','doll','i phone 12']\n",
    "# category = ['IT','toy','smartphone']\n",
    "# price = [1200 , 900 , 30000]\n",
    "\n",
    "# #สร้าง Series\n",
    "# name = pd.Series(name)\n",
    "# category = pd.Series(category)\n",
    "# price = pd.Series(price)\n",
    "\n",
    "# #สร้าง dictionary ก้อนนึงตั้งชื่อว่า frame เพื่อเก็บข้อมูล และมี key และ vale และจับคู่ข้อมูลเลย\n",
    "# frame = {\n",
    "#     'Name':name ,\n",
    "#     'Category':category , \n",
    "#     'Price':price\n",
    "# }\n",
    "\n",
    "# #สร้าง dataframe เพื่อสร้างตารางจากข้อมูลก่อนหน้านี้ที่เรา input เข้ามา\n",
    "# df = pd.DataFrame(frame)\n",
    "# #แสดงผล\n",
    "# df"
   ]
  },
  {
   "cell_type": "code",
   "execution_count": 4,
   "id": "eae06753",
   "metadata": {},
   "outputs": [],
   "source": [
    "#เรียกใช้ pandas\n",
    "import pandas as pd"
   ]
  },
  {
   "cell_type": "code",
   "execution_count": null,
   "id": "a8823636",
   "metadata": {},
   "outputs": [],
   "source": [
    "#สร้าง product data ที่เราต้องการ  หรือ มันคือการเตรียมข้อมูล\n",
    "name = ['keybord','doll','i phone 12']\n",
    "category = ['IT','toy','smartphone']\n",
    "price = [1200 , 900 , 30000]"
   ]
  },
  {
   "cell_type": "code",
   "execution_count": 6,
   "id": "8474e24c",
   "metadata": {},
   "outputs": [],
   "source": [
    "#สร้าง series\n",
    "name = pd.Series(name)\n",
    "category = pd.Series(category)\n",
    "price = pd.Series(price)"
   ]
  },
  {
   "cell_type": "code",
   "execution_count": 7,
   "id": "35f7894a",
   "metadata": {},
   "outputs": [],
   "source": [
    "\n",
    "#สร้าง dictionary ก้อนนึงตั้งชื่อว่า frame เพื่อเก็บข้อมูล และมี key และ vale และจับคู่ข้อมูลเลย\n",
    "frame = {\n",
    "    'Name':name ,\n",
    "    'Category':category , \n",
    "    'Price':price\n",
    "}"
   ]
  },
  {
   "cell_type": "code",
   "execution_count": null,
   "id": "427879d7",
   "metadata": {},
   "outputs": [],
   "source": [
    "\n",
    "#สร้าง dataframe เพื่อสร้างตารางจากข้อมูลก่อนหน้านี้ที่เรา input เข้ามา หรือ มันคือการรวมร่างข้อมูล ลงในตัวแปรชื่อ frame\n",
    "df = pd.DataFrame(frame)\n"
   ]
  },
  {
   "cell_type": "code",
   "execution_count": 11,
   "id": "975992b0",
   "metadata": {},
   "outputs": [
    {
     "data": {
      "text/html": [
       "<div>\n",
       "<style scoped>\n",
       "    .dataframe tbody tr th:only-of-type {\n",
       "        vertical-align: middle;\n",
       "    }\n",
       "\n",
       "    .dataframe tbody tr th {\n",
       "        vertical-align: top;\n",
       "    }\n",
       "\n",
       "    .dataframe thead th {\n",
       "        text-align: right;\n",
       "    }\n",
       "</style>\n",
       "<table border=\"1\" class=\"dataframe\">\n",
       "  <thead>\n",
       "    <tr style=\"text-align: right;\">\n",
       "      <th></th>\n",
       "      <th>Name</th>\n",
       "      <th>Category</th>\n",
       "      <th>Price</th>\n",
       "    </tr>\n",
       "  </thead>\n",
       "  <tbody>\n",
       "    <tr>\n",
       "      <th>0</th>\n",
       "      <td>keybord</td>\n",
       "      <td>IT</td>\n",
       "      <td>1200</td>\n",
       "    </tr>\n",
       "    <tr>\n",
       "      <th>1</th>\n",
       "      <td>doll</td>\n",
       "      <td>toy</td>\n",
       "      <td>900</td>\n",
       "    </tr>\n",
       "    <tr>\n",
       "      <th>2</th>\n",
       "      <td>i phone 12</td>\n",
       "      <td>smartphone</td>\n",
       "      <td>30000</td>\n",
       "    </tr>\n",
       "  </tbody>\n",
       "</table>\n",
       "</div>"
      ],
      "text/plain": [
       "         Name    Category  Price\n",
       "0     keybord          IT   1200\n",
       "1        doll         toy    900\n",
       "2  i phone 12  smartphone  30000"
      ]
     },
     "execution_count": 11,
     "metadata": {},
     "output_type": "execute_result"
    }
   ],
   "source": [
    "#แสดงผล\n",
    "df"
   ]
  },
  {
   "cell_type": "code",
   "execution_count": 13,
   "id": "da765e49",
   "metadata": {},
   "outputs": [],
   "source": [
    "#หรือ อยากจะให้ index เปลี่ยนเป็น ชื่อสินค้าแทนเลย \n",
    "df.set_index(['Name'],inplace=True)"
   ]
  },
  {
   "cell_type": "code",
   "execution_count": 14,
   "id": "f4fa163a",
   "metadata": {},
   "outputs": [
    {
     "data": {
      "text/html": [
       "<div>\n",
       "<style scoped>\n",
       "    .dataframe tbody tr th:only-of-type {\n",
       "        vertical-align: middle;\n",
       "    }\n",
       "\n",
       "    .dataframe tbody tr th {\n",
       "        vertical-align: top;\n",
       "    }\n",
       "\n",
       "    .dataframe thead th {\n",
       "        text-align: right;\n",
       "    }\n",
       "</style>\n",
       "<table border=\"1\" class=\"dataframe\">\n",
       "  <thead>\n",
       "    <tr style=\"text-align: right;\">\n",
       "      <th></th>\n",
       "      <th>Category</th>\n",
       "      <th>Price</th>\n",
       "    </tr>\n",
       "    <tr>\n",
       "      <th>Name</th>\n",
       "      <th></th>\n",
       "      <th></th>\n",
       "    </tr>\n",
       "  </thead>\n",
       "  <tbody>\n",
       "    <tr>\n",
       "      <th>keybord</th>\n",
       "      <td>IT</td>\n",
       "      <td>1200</td>\n",
       "    </tr>\n",
       "    <tr>\n",
       "      <th>doll</th>\n",
       "      <td>toy</td>\n",
       "      <td>900</td>\n",
       "    </tr>\n",
       "    <tr>\n",
       "      <th>i phone 12</th>\n",
       "      <td>smartphone</td>\n",
       "      <td>30000</td>\n",
       "    </tr>\n",
       "  </tbody>\n",
       "</table>\n",
       "</div>"
      ],
      "text/plain": [
       "              Category  Price\n",
       "Name                         \n",
       "keybord             IT   1200\n",
       "doll               toy    900\n",
       "i phone 12  smartphone  30000"
      ]
     },
     "execution_count": 14,
     "metadata": {},
     "output_type": "execute_result"
    }
   ],
   "source": [
    "df"
   ]
  }
 ],
 "metadata": {
  "kernelspec": {
   "display_name": "Python (MyEnv)",
   "language": "python",
   "name": "myenv"
  },
  "language_info": {
   "codemirror_mode": {
    "name": "ipython",
    "version": 3
   },
   "file_extension": ".py",
   "mimetype": "text/x-python",
   "name": "python",
   "nbconvert_exporter": "python",
   "pygments_lexer": "ipython3",
   "version": "3.13.3"
  }
 },
 "nbformat": 4,
 "nbformat_minor": 5
}
