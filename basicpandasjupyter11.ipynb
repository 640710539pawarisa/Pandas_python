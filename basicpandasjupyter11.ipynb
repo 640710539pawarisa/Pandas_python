{
 "cells": [
  {
   "cell_type": "code",
   "execution_count": 48,
   "id": "d5cb14fc",
   "metadata": {},
   "outputs": [],
   "source": [
    "#สร้าง DataFrame จาก Dictionary"
   ]
  },
  {
   "cell_type": "code",
   "execution_count": null,
   "id": "dee96087",
   "metadata": {},
   "outputs": [],
   "source": [
    "#การสร้าง DataFrame จาก Dictionary\n",
    "# import pandas as pd\n",
    "# data = [\n",
    "#     {'Name':'คีย์บอร์ด','Category':'อุปกรณ์คอม','Price':1200},\n",
    "#     {'Name':'ตุ๊กตา','Category':'ของเล่น','Price':900},\n",
    "#     {'Name':'i phone 12','Category':'มือถือ','Price':30000},\n",
    "# ]\n",
    "# #สร้าง DataFrame จาก Dictionary \n",
    "# df = pd.DataFrame(data)\n",
    "# df"
   ]
  },
  {
   "cell_type": "code",
   "execution_count": 50,
   "id": "eab2be88",
   "metadata": {},
   "outputs": [],
   "source": [
    "#เรียกใช้งาน pandas\n",
    "import pandas as pd\n"
   ]
  },
  {
   "cell_type": "code",
   "execution_count": 51,
   "id": "4cd77a79",
   "metadata": {},
   "outputs": [],
   "source": [
    "#สร้าง กลุ่มข้อมูลแบบ  Dictionary\n",
    "\n",
    "product = [\n",
    "    {'Name':'คีย์บอร์ด','Category':'อุปกรณ์คอม','Price':1200},\n",
    "    {'Name':'ตุ๊กตา','Category':'ของเล่น','Price':900},\n",
    "    {'Name':'i phone 12','Category':'มือถือ','Price':30000},\n",
    "]"
   ]
  },
  {
   "cell_type": "code",
   "execution_count": 52,
   "id": "4cf5b42c",
   "metadata": {},
   "outputs": [],
   "source": [
    "#สร้าง DataFrame จาก Dictionary\n",
    "df = pd.DataFrame(product)\n"
   ]
  },
  {
   "cell_type": "code",
   "execution_count": 53,
   "id": "46626cf4",
   "metadata": {},
   "outputs": [
    {
     "data": {
      "text/html": [
       "<div>\n",
       "<style scoped>\n",
       "    .dataframe tbody tr th:only-of-type {\n",
       "        vertical-align: middle;\n",
       "    }\n",
       "\n",
       "    .dataframe tbody tr th {\n",
       "        vertical-align: top;\n",
       "    }\n",
       "\n",
       "    .dataframe thead th {\n",
       "        text-align: right;\n",
       "    }\n",
       "</style>\n",
       "<table border=\"1\" class=\"dataframe\">\n",
       "  <thead>\n",
       "    <tr style=\"text-align: right;\">\n",
       "      <th></th>\n",
       "      <th>Name</th>\n",
       "      <th>Category</th>\n",
       "      <th>Price</th>\n",
       "    </tr>\n",
       "  </thead>\n",
       "  <tbody>\n",
       "    <tr>\n",
       "      <th>0</th>\n",
       "      <td>คีย์บอร์ด</td>\n",
       "      <td>อุปกรณ์คอม</td>\n",
       "      <td>1200</td>\n",
       "    </tr>\n",
       "    <tr>\n",
       "      <th>1</th>\n",
       "      <td>ตุ๊กตา</td>\n",
       "      <td>ของเล่น</td>\n",
       "      <td>900</td>\n",
       "    </tr>\n",
       "    <tr>\n",
       "      <th>2</th>\n",
       "      <td>i phone 12</td>\n",
       "      <td>มือถือ</td>\n",
       "      <td>30000</td>\n",
       "    </tr>\n",
       "  </tbody>\n",
       "</table>\n",
       "</div>"
      ],
      "text/plain": [
       "         Name    Category  Price\n",
       "0   คีย์บอร์ด  อุปกรณ์คอม   1200\n",
       "1      ตุ๊กตา     ของเล่น    900\n",
       "2  i phone 12      มือถือ  30000"
      ]
     },
     "execution_count": 53,
     "metadata": {},
     "output_type": "execute_result"
    }
   ],
   "source": [
    "#แสดง DataFrame\n",
    "df"
   ]
  },
  {
   "cell_type": "code",
   "execution_count": 54,
   "id": "054560ed",
   "metadata": {},
   "outputs": [],
   "source": [
    "#อยากสร้างข้อมูลเพิ่ม\n",
    "product = [\n",
    "    {'Name':'คีย์บอร์ด','Category':'อุปกรณ์คอม','Price':1200},\n",
    "    {'Name':'ตุ๊กตา','Category':'ของเล่น','Price':900},\n",
    "    {'Name':'i phone 12','Category':'มือถือ','Price':30000},\n",
    "    {'Name':'ทุเรียน','Category':'ผลไม้','Price':170}\n",
    "]"
   ]
  },
  {
   "cell_type": "code",
   "execution_count": 55,
   "id": "8197323f",
   "metadata": {},
   "outputs": [],
   "source": [
    "#สร้าง DataFrame จาก Dictionary\n",
    "df = pd.DataFrame(product)"
   ]
  },
  {
   "cell_type": "code",
   "execution_count": 56,
   "id": "7285a21d",
   "metadata": {},
   "outputs": [
    {
     "data": {
      "text/html": [
       "<div>\n",
       "<style scoped>\n",
       "    .dataframe tbody tr th:only-of-type {\n",
       "        vertical-align: middle;\n",
       "    }\n",
       "\n",
       "    .dataframe tbody tr th {\n",
       "        vertical-align: top;\n",
       "    }\n",
       "\n",
       "    .dataframe thead th {\n",
       "        text-align: right;\n",
       "    }\n",
       "</style>\n",
       "<table border=\"1\" class=\"dataframe\">\n",
       "  <thead>\n",
       "    <tr style=\"text-align: right;\">\n",
       "      <th></th>\n",
       "      <th>Name</th>\n",
       "      <th>Category</th>\n",
       "      <th>Price</th>\n",
       "    </tr>\n",
       "  </thead>\n",
       "  <tbody>\n",
       "    <tr>\n",
       "      <th>0</th>\n",
       "      <td>คีย์บอร์ด</td>\n",
       "      <td>อุปกรณ์คอม</td>\n",
       "      <td>1200</td>\n",
       "    </tr>\n",
       "    <tr>\n",
       "      <th>1</th>\n",
       "      <td>ตุ๊กตา</td>\n",
       "      <td>ของเล่น</td>\n",
       "      <td>900</td>\n",
       "    </tr>\n",
       "    <tr>\n",
       "      <th>2</th>\n",
       "      <td>i phone 12</td>\n",
       "      <td>มือถือ</td>\n",
       "      <td>30000</td>\n",
       "    </tr>\n",
       "    <tr>\n",
       "      <th>3</th>\n",
       "      <td>ทุเรียน</td>\n",
       "      <td>ผลไม้</td>\n",
       "      <td>170</td>\n",
       "    </tr>\n",
       "  </tbody>\n",
       "</table>\n",
       "</div>"
      ],
      "text/plain": [
       "         Name    Category  Price\n",
       "0   คีย์บอร์ด  อุปกรณ์คอม   1200\n",
       "1      ตุ๊กตา     ของเล่น    900\n",
       "2  i phone 12      มือถือ  30000\n",
       "3     ทุเรียน       ผลไม้    170"
      ]
     },
     "execution_count": 56,
     "metadata": {},
     "output_type": "execute_result"
    }
   ],
   "source": [
    "df"
   ]
  },
  {
   "cell_type": "code",
   "execution_count": null,
   "id": "3f6fe93f",
   "metadata": {},
   "outputs": [
    {
     "data": {
      "text/html": [
       "<div>\n",
       "<style scoped>\n",
       "    .dataframe tbody tr th:only-of-type {\n",
       "        vertical-align: middle;\n",
       "    }\n",
       "\n",
       "    .dataframe tbody tr th {\n",
       "        vertical-align: top;\n",
       "    }\n",
       "\n",
       "    .dataframe thead th {\n",
       "        text-align: right;\n",
       "    }\n",
       "</style>\n",
       "<table border=\"1\" class=\"dataframe\">\n",
       "  <thead>\n",
       "    <tr style=\"text-align: right;\">\n",
       "      <th></th>\n",
       "      <th>Category</th>\n",
       "      <th>Price</th>\n",
       "    </tr>\n",
       "    <tr>\n",
       "      <th>Name</th>\n",
       "      <th></th>\n",
       "      <th></th>\n",
       "    </tr>\n",
       "  </thead>\n",
       "  <tbody>\n",
       "    <tr>\n",
       "      <th>คีย์บอร์ด</th>\n",
       "      <td>อุปกรณ์คอม</td>\n",
       "      <td>1200</td>\n",
       "    </tr>\n",
       "    <tr>\n",
       "      <th>ตุ๊กตา</th>\n",
       "      <td>ของเล่น</td>\n",
       "      <td>900</td>\n",
       "    </tr>\n",
       "    <tr>\n",
       "      <th>i phone 12</th>\n",
       "      <td>มือถือ</td>\n",
       "      <td>30000</td>\n",
       "    </tr>\n",
       "    <tr>\n",
       "      <th>ทุเรียน</th>\n",
       "      <td>ผลไม้</td>\n",
       "      <td>170</td>\n",
       "    </tr>\n",
       "  </tbody>\n",
       "</table>\n",
       "</div>"
      ],
      "text/plain": [
       "              Category  Price\n",
       "Name                         \n",
       "คีย์บอร์ด   อุปกรณ์คอม   1200\n",
       "ตุ๊กตา         ของเล่น    900\n",
       "i phone 12      มือถือ  30000\n",
       "ทุเรียน          ผลไม้    170"
      ]
     },
     "execution_count": 57,
     "metadata": {},
     "output_type": "execute_result"
    }
   ],
   "source": [
    "#ถ้าเราอยากเปลี่ยน index หรือ ตำแหน่ง ที่มันแสดงผลออกมา เป็นชื่อ สินค้าแทน\n",
    "df.set_index(['Name']) #อันนี้แบบชั่วคราว มันไม่เปลี่ยนถาวร\n",
    "#ถ้าอยากให้เปลี่ยนถาวร หรือ save ทับอันเดิมไปเลย ให้ใช้คำสั่ง เพิ่ม df.set_index(['Name'],inplace=True)\n",
    "\n",
    "#เรื่อง set_indexสามารถนำไปใช้กับเรื่อง list ซ้อน list หรือ คือเรื่อง list หลายมิติ"
   ]
  },
  {
   "cell_type": "code",
   "execution_count": 58,
   "id": "de44f902",
   "metadata": {},
   "outputs": [
    {
     "data": {
      "text/html": [
       "<div>\n",
       "<style scoped>\n",
       "    .dataframe tbody tr th:only-of-type {\n",
       "        vertical-align: middle;\n",
       "    }\n",
       "\n",
       "    .dataframe tbody tr th {\n",
       "        vertical-align: top;\n",
       "    }\n",
       "\n",
       "    .dataframe thead th {\n",
       "        text-align: right;\n",
       "    }\n",
       "</style>\n",
       "<table border=\"1\" class=\"dataframe\">\n",
       "  <thead>\n",
       "    <tr style=\"text-align: right;\">\n",
       "      <th></th>\n",
       "      <th>Name</th>\n",
       "      <th>Category</th>\n",
       "      <th>Price</th>\n",
       "    </tr>\n",
       "  </thead>\n",
       "  <tbody>\n",
       "    <tr>\n",
       "      <th>0</th>\n",
       "      <td>คีย์บอร์ด</td>\n",
       "      <td>อุปกรณ์คอม</td>\n",
       "      <td>1200</td>\n",
       "    </tr>\n",
       "    <tr>\n",
       "      <th>1</th>\n",
       "      <td>ตุ๊กตา</td>\n",
       "      <td>ของเล่น</td>\n",
       "      <td>900</td>\n",
       "    </tr>\n",
       "    <tr>\n",
       "      <th>2</th>\n",
       "      <td>i phone 12</td>\n",
       "      <td>มือถือ</td>\n",
       "      <td>30000</td>\n",
       "    </tr>\n",
       "    <tr>\n",
       "      <th>3</th>\n",
       "      <td>ทุเรียน</td>\n",
       "      <td>ผลไม้</td>\n",
       "      <td>170</td>\n",
       "    </tr>\n",
       "  </tbody>\n",
       "</table>\n",
       "</div>"
      ],
      "text/plain": [
       "         Name    Category  Price\n",
       "0   คีย์บอร์ด  อุปกรณ์คอม   1200\n",
       "1      ตุ๊กตา     ของเล่น    900\n",
       "2  i phone 12      มือถือ  30000\n",
       "3     ทุเรียน       ผลไม้    170"
      ]
     },
     "execution_count": 58,
     "metadata": {},
     "output_type": "execute_result"
    }
   ],
   "source": [
    "df"
   ]
  },
  {
   "cell_type": "code",
   "execution_count": 59,
   "id": "50de6fa7",
   "metadata": {},
   "outputs": [
    {
     "data": {
      "text/html": [
       "<div>\n",
       "<style scoped>\n",
       "    .dataframe tbody tr th:only-of-type {\n",
       "        vertical-align: middle;\n",
       "    }\n",
       "\n",
       "    .dataframe tbody tr th {\n",
       "        vertical-align: top;\n",
       "    }\n",
       "\n",
       "    .dataframe thead th {\n",
       "        text-align: right;\n",
       "    }\n",
       "</style>\n",
       "<table border=\"1\" class=\"dataframe\">\n",
       "  <thead>\n",
       "    <tr style=\"text-align: right;\">\n",
       "      <th></th>\n",
       "      <th>Category</th>\n",
       "      <th>Price</th>\n",
       "    </tr>\n",
       "    <tr>\n",
       "      <th>Name</th>\n",
       "      <th></th>\n",
       "      <th></th>\n",
       "    </tr>\n",
       "  </thead>\n",
       "  <tbody>\n",
       "    <tr>\n",
       "      <th>คีย์บอร์ด</th>\n",
       "      <td>อุปกรณ์คอม</td>\n",
       "      <td>1200</td>\n",
       "    </tr>\n",
       "    <tr>\n",
       "      <th>ตุ๊กตา</th>\n",
       "      <td>ของเล่น</td>\n",
       "      <td>900</td>\n",
       "    </tr>\n",
       "    <tr>\n",
       "      <th>i phone 12</th>\n",
       "      <td>มือถือ</td>\n",
       "      <td>30000</td>\n",
       "    </tr>\n",
       "    <tr>\n",
       "      <th>ทุเรียน</th>\n",
       "      <td>ผลไม้</td>\n",
       "      <td>170</td>\n",
       "    </tr>\n",
       "  </tbody>\n",
       "</table>\n",
       "</div>"
      ],
      "text/plain": [
       "              Category  Price\n",
       "Name                         \n",
       "คีย์บอร์ด   อุปกรณ์คอม   1200\n",
       "ตุ๊กตา         ของเล่น    900\n",
       "i phone 12      มือถือ  30000\n",
       "ทุเรียน          ผลไม้    170"
      ]
     },
     "execution_count": 59,
     "metadata": {},
     "output_type": "execute_result"
    }
   ],
   "source": [
    "#ถ้าอยากให้เปลี่ยนถาวร หรือ save ทับอันเดิมไปเลย ให้ใช้คำสั่ง เพิ่ม df.set_index(['Name'],inplace=True) และ inplace=True คือการ save ทับ\n",
    "df.set_index(['Name'],inplace=True)\n",
    "df"
   ]
  },
  {
   "cell_type": "code",
   "execution_count": 60,
   "id": "6c53dc0e",
   "metadata": {},
   "outputs": [
    {
     "data": {
      "text/html": [
       "<div>\n",
       "<style scoped>\n",
       "    .dataframe tbody tr th:only-of-type {\n",
       "        vertical-align: middle;\n",
       "    }\n",
       "\n",
       "    .dataframe tbody tr th {\n",
       "        vertical-align: top;\n",
       "    }\n",
       "\n",
       "    .dataframe thead th {\n",
       "        text-align: right;\n",
       "    }\n",
       "</style>\n",
       "<table border=\"1\" class=\"dataframe\">\n",
       "  <thead>\n",
       "    <tr style=\"text-align: right;\">\n",
       "      <th></th>\n",
       "      <th>Category</th>\n",
       "      <th>Price</th>\n",
       "    </tr>\n",
       "    <tr>\n",
       "      <th>Name</th>\n",
       "      <th></th>\n",
       "      <th></th>\n",
       "    </tr>\n",
       "  </thead>\n",
       "  <tbody>\n",
       "    <tr>\n",
       "      <th>คีย์บอร์ด</th>\n",
       "      <td>อุปกรณ์คอม</td>\n",
       "      <td>1200</td>\n",
       "    </tr>\n",
       "    <tr>\n",
       "      <th>ตุ๊กตา</th>\n",
       "      <td>ของเล่น</td>\n",
       "      <td>900</td>\n",
       "    </tr>\n",
       "    <tr>\n",
       "      <th>i phone 12</th>\n",
       "      <td>มือถือ</td>\n",
       "      <td>30000</td>\n",
       "    </tr>\n",
       "    <tr>\n",
       "      <th>ทุเรียน</th>\n",
       "      <td>ผลไม้</td>\n",
       "      <td>170</td>\n",
       "    </tr>\n",
       "  </tbody>\n",
       "</table>\n",
       "</div>"
      ],
      "text/plain": [
       "              Category  Price\n",
       "Name                         \n",
       "คีย์บอร์ด   อุปกรณ์คอม   1200\n",
       "ตุ๊กตา         ของเล่น    900\n",
       "i phone 12      มือถือ  30000\n",
       "ทุเรียน          ผลไม้    170"
      ]
     },
     "execution_count": 60,
     "metadata": {},
     "output_type": "execute_result"
    }
   ],
   "source": [
    "df #ผลลัพธ์จะเห็นว่าindexเปลี่ยนไปเป็นชื่อสิ้นค้าที่เรากำหนดแล้ว"
   ]
  }
 ],
 "metadata": {
  "kernelspec": {
   "display_name": "Python (MyEnv)",
   "language": "python",
   "name": "myenv"
  },
  "language_info": {
   "codemirror_mode": {
    "name": "ipython",
    "version": 3
   },
   "file_extension": ".py",
   "mimetype": "text/x-python",
   "name": "python",
   "nbconvert_exporter": "python",
   "pygments_lexer": "ipython3",
   "version": "3.13.3"
  }
 },
 "nbformat": 4,
 "nbformat_minor": 5
}
