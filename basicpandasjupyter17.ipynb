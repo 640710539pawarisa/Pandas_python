{
 "cells": [
  {
   "cell_type": "code",
   "execution_count": null,
   "id": "66ef422e",
   "metadata": {},
   "outputs": [],
   "source": [
    "#อ่านเอกสาร Excel"
   ]
  },
  {
   "cell_type": "code",
   "execution_count": null,
   "id": "1c4dc6d4",
   "metadata": {},
   "outputs": [],
   "source": [
    "#Dataframe ่านเอกสาร Excel\n",
    "#pip install xlrd\n",
    "\n",
    "#import pandas as pd\n",
    "#df = pd.read_csv('ตำแหน่งไฟล์','ชื่อ sheet',encodinding='utf-8')\n",
    "#df.head()"
   ]
  },
  {
   "cell_type": "code",
   "execution_count": null,
   "id": "e8027841",
   "metadata": {},
   "outputs": [],
   "source": []
  }
 ],
 "metadata": {
  "language_info": {
   "name": "python"
  }
 },
 "nbformat": 4,
 "nbformat_minor": 5
}
