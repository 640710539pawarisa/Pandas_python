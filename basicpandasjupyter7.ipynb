{
 "cells": [
  {
   "cell_type": "code",
   "execution_count": null,
   "id": "006093c0",
   "metadata": {},
   "outputs": [],
   "source": [
    "#การเข้าถึงข้อมูลใน series (แบบช่วงข้อมูล slice)\n",
    "\n",
    "#โครงสร้างการเข้าถึง\n",
    "#ps[เริ่มต้น : สิ้นสุด] หรือ ps[start : stop-1]\n",
    "#note - สิ้นสุดไม่รวมสิ้นสุด หรือ  stop-1 คือก่อนจุดสิ้นสุด\n",
    "#สัญลักษณ์\n",
    "#[:] - ทุกอัน\n",
    "#[2:] - index 2 เป็นต้นไป\n",
    "#[:2] - เริ่มต้นไปจนก่อนถึง index 2\n",
    "#[1:3] - เริ่มต้น ที่ index 1  ไปจนถึงก่อนถึง index 3\n",
    "\n"
   ]
  },
  {
   "cell_type": "code",
   "execution_count": null,
   "id": "40130d1d",
   "metadata": {},
   "outputs": [],
   "source": [
    "#Slice "
   ]
  },
  {
   "cell_type": "code",
   "execution_count": 2,
   "id": "61783661",
   "metadata": {},
   "outputs": [],
   "source": [
    "#import pandas เข้ามาก่อน\n",
    "\n",
    "import  pandas as pd\n",
    "\n",
    "#สร้าง series \n",
    "ps = pd.Series([10,20,30,40,50,60,70,80,90,100])"
   ]
  },
  {
   "cell_type": "code",
   "execution_count": null,
   "id": "1650faf2",
   "metadata": {},
   "outputs": [
    {
     "data": {
      "text/plain": [
       "0     10\n",
       "1     20\n",
       "2     30\n",
       "3     40\n",
       "4     50\n",
       "5     60\n",
       "6     70\n",
       "7     80\n",
       "8     90\n",
       "9    100\n",
       "dtype: int64"
      ]
     },
     "execution_count": 5,
     "metadata": {},
     "output_type": "execute_result"
    }
   ],
   "source": [
    "#แสดง series ที่เราสร้าง\n",
    "ps\n",
    "#or\n",
    "# print(ps)"
   ]
  },
  {
   "cell_type": "code",
   "execution_count": null,
   "id": "9ea7c655",
   "metadata": {},
   "outputs": [
    {
     "name": "stdout",
     "output_type": "stream",
     "text": [
      "30\n"
     ]
    }
   ],
   "source": [
    "#อยากให้แสดง ตำแหน่งที่ 3 หรือ index ที่ 2 เพราะ index เริ่มต้นที่ 0  หรือคือเลข 30\n",
    "print(ps[2])\n",
    "#or\n",
    "#ps[2]"
   ]
  },
  {
   "cell_type": "code",
   "execution_count": 8,
   "id": "7e9a5594",
   "metadata": {},
   "outputs": [
    {
     "data": {
      "text/plain": [
       "0     10\n",
       "1     20\n",
       "2     30\n",
       "3     40\n",
       "4     50\n",
       "5     60\n",
       "6     70\n",
       "7     80\n",
       "8     90\n",
       "9    100\n",
       "dtype: int64"
      ]
     },
     "execution_count": 8,
     "metadata": {},
     "output_type": "execute_result"
    }
   ],
   "source": [
    "#อยากแสดงทุกอัน \n",
    "ps[:]"
   ]
  },
  {
   "cell_type": "code",
   "execution_count": 9,
   "id": "2487048a",
   "metadata": {},
   "outputs": [
    {
     "data": {
      "text/plain": [
       "1     20\n",
       "2     30\n",
       "3     40\n",
       "4     50\n",
       "5     60\n",
       "6     70\n",
       "7     80\n",
       "8     90\n",
       "9    100\n",
       "dtype: int64"
      ]
     },
     "execution_count": 9,
     "metadata": {},
     "output_type": "execute_result"
    }
   ],
   "source": [
    "#อยากให้แสดงตั้งแต่ตำแหน่งที่ 1 ถึงตำแหน่งสุดท้าย\n",
    "ps[1:]\n",
    "#or\n",
    "#print(ps[1:])"
   ]
  },
  {
   "cell_type": "code",
   "execution_count": null,
   "id": "120b27f2",
   "metadata": {},
   "outputs": [
    {
     "data": {
      "text/plain": [
       "0    10\n",
       "1    20\n",
       "2    30\n",
       "3    40\n",
       "4    50\n",
       "dtype: int64"
      ]
     },
     "execution_count": 10,
     "metadata": {},
     "output_type": "execute_result"
    }
   ],
   "source": [
    "#อยากให้แสดงตั้งแต่ตำแหน่งแรกถึง index ที่ 5 หรือ ตำแน่ง ที่  4\n",
    "ps[:5]\n",
    "#or\n",
    "#print(ps[:5])"
   ]
  },
  {
   "cell_type": "code",
   "execution_count": null,
   "id": "c8e1353e",
   "metadata": {},
   "outputs": [
    {
     "data": {
      "text/plain": [
       "1    20\n",
       "2    30\n",
       "3    40\n",
       "4    50\n",
       "5    60\n",
       "6    70\n",
       "7    80\n",
       "dtype: int64"
      ]
     },
     "execution_count": 11,
     "metadata": {},
     "output_type": "execute_result"
    }
   ],
   "source": [
    "#อยากให้แสดงตั้งแต่ตำแหน่งที่ 2 ถึงตำแหน่งที่ 8 หรือ index ที่  7\n",
    "ps[1:8]\n",
    "#or\n",
    "#print(ps[1:8])"
   ]
  }
 ],
 "metadata": {
  "kernelspec": {
   "display_name": "Python (MyEnv)",
   "language": "python",
   "name": "myenv"
  },
  "language_info": {
   "codemirror_mode": {
    "name": "ipython",
    "version": 3
   },
   "file_extension": ".py",
   "mimetype": "text/x-python",
   "name": "python",
   "nbconvert_exporter": "python",
   "pygments_lexer": "ipython3",
   "version": "3.13.3"
  }
 },
 "nbformat": 4,
 "nbformat_minor": 5
}
