{
 "cells": [
  {
   "cell_type": "code",
   "execution_count": null,
   "id": "33c21464",
   "metadata": {},
   "outputs": [],
   "source": [
    "#อ่านเอกสาร CSV"
   ]
  },
  {
   "cell_type": "code",
   "execution_count": null,
   "id": "9facf228",
   "metadata": {},
   "outputs": [],
   "source": [
    "#DataFrame อ่านเอกสาร CSV\n",
    "# import pandas as pd\n",
    "# df = pd.read_csv('ตำแหน่งไฟล์',encoding='utf-8')\n",
    "# df.head()\n",
    "\n",
    "#encoding='utf-8' คือการเข้ารหัสตัวอักษร กรณีที่นำข้อมูลหรือข้อความเป็นภาษาไทย เลยต้อง encoding='utf-8' เพื่อให้อ่านไฟล์ได้"
   ]
  },
  {
   "cell_type": "code",
   "execution_count": null,
   "id": "ab8f8875",
   "metadata": {},
   "outputs": [],
   "source": [
    "import pandas as pd\n",
    "\n",
    "#อ่าน ไฟล์ csv\n",
    "df = pd.read_csv(\"product.csv\")\n",
    "\n",
    "# #อ่าน ไฟล์ csv กรณีมีภาษาไทยในข้อมูล\n",
    "# df = pd.read_csv(\"product.csv\",encoding='utf-8')"
   ]
  },
  {
   "cell_type": "code",
   "execution_count": null,
   "id": "3ae95fa1",
   "metadata": {},
   "outputs": [
    {
     "data": {
      "text/html": [
       "<div>\n",
       "<style scoped>\n",
       "    .dataframe tbody tr th:only-of-type {\n",
       "        vertical-align: middle;\n",
       "    }\n",
       "\n",
       "    .dataframe tbody tr th {\n",
       "        vertical-align: top;\n",
       "    }\n",
       "\n",
       "    .dataframe thead th {\n",
       "        text-align: right;\n",
       "    }\n",
       "</style>\n",
       "<table border=\"1\" class=\"dataframe\">\n",
       "  <thead>\n",
       "    <tr style=\"text-align: right;\">\n",
       "      <th></th>\n",
       "      <th>Unnamed: 0</th>\n",
       "      <th>Name</th>\n",
       "      <th>Category</th>\n",
       "      <th>Price</th>\n",
       "    </tr>\n",
       "  </thead>\n",
       "  <tbody>\n",
       "    <tr>\n",
       "      <th>0</th>\n",
       "      <td>0</td>\n",
       "      <td>keybord</td>\n",
       "      <td>IT</td>\n",
       "      <td>1200</td>\n",
       "    </tr>\n",
       "    <tr>\n",
       "      <th>1</th>\n",
       "      <td>1</td>\n",
       "      <td>doll</td>\n",
       "      <td>toy</td>\n",
       "      <td>900</td>\n",
       "    </tr>\n",
       "    <tr>\n",
       "      <th>2</th>\n",
       "      <td>2</td>\n",
       "      <td>i phone 12</td>\n",
       "      <td>smartphone</td>\n",
       "      <td>30000</td>\n",
       "    </tr>\n",
       "  </tbody>\n",
       "</table>\n",
       "</div>"
      ],
      "text/plain": [
       "   Unnamed: 0        Name    Category  Price\n",
       "0           0     keybord          IT   1200\n",
       "1           1        doll         toy    900\n",
       "2           2  i phone 12  smartphone  30000"
      ]
     },
     "execution_count": 2,
     "metadata": {},
     "output_type": "execute_result"
    }
   ],
   "source": [
    "df\n",
    "#กด ctrl + enter จะrun"
   ]
  }
 ],
 "metadata": {
  "kernelspec": {
   "display_name": "Python (MyEnv)",
   "language": "python",
   "name": "myenv"
  },
  "language_info": {
   "codemirror_mode": {
    "name": "ipython",
    "version": 3
   },
   "file_extension": ".py",
   "mimetype": "text/x-python",
   "name": "python",
   "nbconvert_exporter": "python",
   "pygments_lexer": "ipython3",
   "version": "3.13.3"
  }
 },
 "nbformat": 4,
 "nbformat_minor": 5
}
