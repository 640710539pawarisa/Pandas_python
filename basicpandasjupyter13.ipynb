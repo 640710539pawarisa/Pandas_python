{
 "cells": [
  {
   "cell_type": "code",
   "execution_count": 3,
   "id": "873242e4",
   "metadata": {},
   "outputs": [],
   "source": [
    "#ส่งออกเอกสาร csv"
   ]
  },
  {
   "cell_type": "code",
   "execution_count": 4,
   "id": "53fd6ba7",
   "metadata": {},
   "outputs": [],
   "source": [
    "#DataFrame ส่งออกเอกสาร csv \n",
    "# DataFrame.to_csv(ตำแหน่งไฟล์ , attribute)\n",
    "\n",
    "# #Attribute\n",
    "# - header ต้องการบันทึกส่วนหัวคอลัมน์หรือไม่(ํTrue/False)(Defult:True)\n",
    "# - index ต้องการบันทึกเลข index หรือไม่(True/False)(Defult:True)"
   ]
  },
  {
   "cell_type": "code",
   "execution_count": 5,
   "id": "eb9c98bb",
   "metadata": {},
   "outputs": [],
   "source": [
    "#ต่อยอดมาจาก basicpandasjupyter12"
   ]
  },
  {
   "cell_type": "code",
   "execution_count": 6,
   "id": "7235d7b2",
   "metadata": {},
   "outputs": [
    {
     "data": {
      "text/html": [
       "<div>\n",
       "<style scoped>\n",
       "    .dataframe tbody tr th:only-of-type {\n",
       "        vertical-align: middle;\n",
       "    }\n",
       "\n",
       "    .dataframe tbody tr th {\n",
       "        vertical-align: top;\n",
       "    }\n",
       "\n",
       "    .dataframe thead th {\n",
       "        text-align: right;\n",
       "    }\n",
       "</style>\n",
       "<table border=\"1\" class=\"dataframe\">\n",
       "  <thead>\n",
       "    <tr style=\"text-align: right;\">\n",
       "      <th></th>\n",
       "      <th>Name</th>\n",
       "      <th>Category</th>\n",
       "      <th>Price</th>\n",
       "    </tr>\n",
       "  </thead>\n",
       "  <tbody>\n",
       "    <tr>\n",
       "      <th>0</th>\n",
       "      <td>keybord</td>\n",
       "      <td>IT</td>\n",
       "      <td>1200</td>\n",
       "    </tr>\n",
       "    <tr>\n",
       "      <th>1</th>\n",
       "      <td>doll</td>\n",
       "      <td>toy</td>\n",
       "      <td>900</td>\n",
       "    </tr>\n",
       "    <tr>\n",
       "      <th>2</th>\n",
       "      <td>i phone 12</td>\n",
       "      <td>smartphone</td>\n",
       "      <td>30000</td>\n",
       "    </tr>\n",
       "  </tbody>\n",
       "</table>\n",
       "</div>"
      ],
      "text/plain": [
       "         Name    Category  Price\n",
       "0     keybord          IT   1200\n",
       "1        doll         toy    900\n",
       "2  i phone 12  smartphone  30000"
      ]
     },
     "execution_count": 6,
     "metadata": {},
     "output_type": "execute_result"
    }
   ],
   "source": [
    "import pandas as pd\n",
    "name = ['keybord','doll','i phone 12']\n",
    "category = ['IT','toy','smartphone']\n",
    "price = [1200 , 900 , 30000]\n",
    "\n",
    "#สร้าง Series\n",
    "name = pd.Series(name)\n",
    "category = pd.Series(category)\n",
    "price = pd.Series(price)\n",
    "\n",
    "#สร้าง dictionary ก้อนนึงตั้งชื่อว่า frame เพื่อเก็บข้อมูล และมี key และ vale และจับคู่ข้อมูลเลย\n",
    "frame = {\n",
    "    'Name':name ,\n",
    "    'Category':category , \n",
    "    'Price':price\n",
    "}\n",
    "\n",
    "#สร้าง dataframe เพื่อสร้างตารางจากข้อมูลก่อนหน้านี้ที่เรา input เข้ามา\n",
    "df = pd.DataFrame(frame)\n",
    "#แสดงผล\n",
    "df"
   ]
  },
  {
   "cell_type": "code",
   "execution_count": 7,
   "id": "1479605a",
   "metadata": {},
   "outputs": [],
   "source": [
    "#การส่งออกเอกสารเป็น csv\n",
    "df.to_csv(\"product.csv\") \n",
    "#มันจะส่งออกไปเป็นไฟล์ product.csv ที่เราสร้างมาใหม่ มันจะถูกส่งไปที่โฟลเดอร์นี้ที่เราใช้เขียนโค้ด แต่เป็นนามสกุล .csv\n",
    "#สามารถไปกด preview ดูไฟล์ได้ หรือ ถ้าใน VS CODE ของเราไม่มีการ preview แบบตารางให้ สามารถไปโหลดที่ Extension \n",
    "# แล้วพิมพ์คำว่า Execl Virwer แล้ว install"
   ]
  },
  {
   "cell_type": "code",
   "execution_count": 8,
   "id": "8596fe19",
   "metadata": {},
   "outputs": [],
   "source": [
    "#ส่งออกเอกสารเป็น csv แบบแรก หรือ แบบปกติ ทุกอย่างจะเป็น True\n",
    "df.to_csv(\"product2.csv\" , header=True ,index=True)"
   ]
  },
  {
   "cell_type": "code",
   "execution_count": 9,
   "id": "39ad2db7",
   "metadata": {},
   "outputs": [],
   "source": [
    "#ส่งออกเอกสารเป็น csv แบบเอาเฉพาะ หัวตาราง ไม่เอาเลข index \n",
    "df.to_csv(\"product2.csv\" , header=True ,index=False)"
   ]
  },
  {
   "cell_type": "code",
   "execution_count": 10,
   "id": "2c830099",
   "metadata": {},
   "outputs": [],
   "source": [
    "#ส่งออกเอกสารเป็น csv แบบเอาเลข index แต่ไม่เอาหัวตาราง \n",
    "df.to_csv(\"product3.csv\" , header=False ,index=False)"
   ]
  },
  {
   "cell_type": "code",
   "execution_count": 11,
   "id": "26f9e1e9",
   "metadata": {},
   "outputs": [],
   "source": [
    "#ส่งออกเอกสารเป็น csv แบบไม่เอาทั้งหัวตาราง และ เลข index\n",
    "df.to_csv(\"product4.csv\" , header=False ,index=False)"
   ]
  }
 ],
 "metadata": {
  "kernelspec": {
   "display_name": "Python (MyEnv)",
   "language": "python",
   "name": "myenv"
  },
  "language_info": {
   "codemirror_mode": {
    "name": "ipython",
    "version": 3
   },
   "file_extension": ".py",
   "mimetype": "text/x-python",
   "name": "python",
   "nbconvert_exporter": "python",
   "pygments_lexer": "ipython3",
   "version": "3.13.3"
  }
 },
 "nbformat": 4,
 "nbformat_minor": 5
}
