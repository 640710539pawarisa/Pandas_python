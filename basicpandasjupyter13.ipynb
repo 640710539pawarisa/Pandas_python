{
 "cells": [
  {
   "cell_type": "code",
   "execution_count": null,
   "id": "873242e4",
   "metadata": {},
   "outputs": [],
   "source": [
    "#ส่งออกเอกสาร csv"
   ]
  },
  {
   "cell_type": "code",
   "execution_count": null,
   "id": "53fd6ba7",
   "metadata": {},
   "outputs": [],
   "source": [
    "#DataFrame ส่งออกเอกสาร csv \n",
    "# DataFrame.to_csv(ตำแหน่งไฟล์ , attribute)\n",
    "\n",
    "# #Attribute\n",
    "# - header ต้องการบันทึกส่วนหัวคอลัมน์หรือไม่(ํTrue/False)(Defult:True)\n",
    "# - index ต้องการบันทึกเลข index หรือไม่(True/False)(Defult:True)"
   ]
  },
  {
   "cell_type": "code",
   "execution_count": null,
   "id": "7235d7b2",
   "metadata": {},
   "outputs": [],
   "source": []
  }
 ],
 "metadata": {
  "language_info": {
   "name": "python"
  }
 },
 "nbformat": 4,
 "nbformat_minor": 5
}
