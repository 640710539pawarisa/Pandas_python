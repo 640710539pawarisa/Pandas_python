{
 "cells": [
  {
   "cell_type": "code",
   "execution_count": 8,
   "id": "0ec702c0",
   "metadata": {},
   "outputs": [],
   "source": [
    "#อ่านเอกสาร CSV บางคอลัมน์"
   ]
  },
  {
   "cell_type": "code",
   "execution_count": 9,
   "id": "b7dcefa0",
   "metadata": {},
   "outputs": [],
   "source": [
    "#Dataframe อ่านเอกสาร CSV (เฉพาะบางคอลัมน์)\n",
    "# import pandas as pd\n",
    "# df = pd.read_csv('ตำแหน่งไฟล์')\n",
    "# cols  = ['Name','Price']\n",
    "# df = pd.read_csv('ตำแหน่งไฟล์',encoding='uft-8',usecols=cols)\n",
    "# df.head()"
   ]
  },
  {
   "cell_type": "code",
   "execution_count": 10,
   "id": "db39a6b3",
   "metadata": {},
   "outputs": [],
   "source": [
    "import pandas as pd\n"
   ]
  },
  {
   "cell_type": "code",
   "execution_count": 11,
   "id": "3cc664a8",
   "metadata": {},
   "outputs": [],
   "source": [
    "#การอ่านไฟล์ csv เข้ามา\n",
    "df = pd.read_csv('product.csv') \n",
    "#เขียนแบบข้างล่างก็ได้"
   ]
  },
  {
   "cell_type": "code",
   "execution_count": null,
   "id": "21901a12",
   "metadata": {},
   "outputs": [],
   "source": [
    "#เฉพาะบางคอลัมน์ และตั้งชื่อ columns ให้มันด้วย\n",
    "cols  = ['Name','Price']\n",
    "\n",
    "#หรือเขียนรวบกันเลยในบรรทัดเดียวเลยก็ได้เช่น\n",
    "#df = pd.read_csv('product.csv',encoding='utf-8',index_col=\"Name\")\n"
   ]
  },
  {
   "cell_type": "code",
   "execution_count": 13,
   "id": "574f6467",
   "metadata": {},
   "outputs": [],
   "source": [
    "#อ่านไฟล์ csv และกำหนดเฉพาะบางคอลัมน์ ในตัวแปร cols ที่เรากำหนดมาก่อนหน้านี้\n",
    "df = pd.read_csv('product.csv',encoding='utf-8',usecols=cols)\n"
   ]
  },
  {
   "cell_type": "code",
   "execution_count": 14,
   "id": "a829ed3a",
   "metadata": {},
   "outputs": [
    {
     "data": {
      "text/html": [
       "<div>\n",
       "<style scoped>\n",
       "    .dataframe tbody tr th:only-of-type {\n",
       "        vertical-align: middle;\n",
       "    }\n",
       "\n",
       "    .dataframe tbody tr th {\n",
       "        vertical-align: top;\n",
       "    }\n",
       "\n",
       "    .dataframe thead th {\n",
       "        text-align: right;\n",
       "    }\n",
       "</style>\n",
       "<table border=\"1\" class=\"dataframe\">\n",
       "  <thead>\n",
       "    <tr style=\"text-align: right;\">\n",
       "      <th></th>\n",
       "      <th>Name</th>\n",
       "      <th>Price</th>\n",
       "    </tr>\n",
       "  </thead>\n",
       "  <tbody>\n",
       "    <tr>\n",
       "      <th>0</th>\n",
       "      <td>keybord</td>\n",
       "      <td>1200</td>\n",
       "    </tr>\n",
       "    <tr>\n",
       "      <th>1</th>\n",
       "      <td>doll</td>\n",
       "      <td>900</td>\n",
       "    </tr>\n",
       "    <tr>\n",
       "      <th>2</th>\n",
       "      <td>i phone 12</td>\n",
       "      <td>30000</td>\n",
       "    </tr>\n",
       "  </tbody>\n",
       "</table>\n",
       "</div>"
      ],
      "text/plain": [
       "         Name  Price\n",
       "0     keybord   1200\n",
       "1        doll    900\n",
       "2  i phone 12  30000"
      ]
     },
     "execution_count": 14,
     "metadata": {},
     "output_type": "execute_result"
    }
   ],
   "source": [
    "df"
   ]
  },
  {
   "cell_type": "code",
   "execution_count": 15,
   "id": "45373a80",
   "metadata": {},
   "outputs": [],
   "source": [
    "#ต้องการ เปลี่ยนเลข index เป็นชื่อสินค้าแทน ใช้คำสั่ง ,index_col=\"Name\" เพิ่มเข้าไป\n",
    "df = pd.read_csv('product.csv',encoding='utf-8',usecols=cols ,index_col=\"Name\")"
   ]
  },
  {
   "cell_type": "code",
   "execution_count": 16,
   "id": "76b3808b",
   "metadata": {},
   "outputs": [
    {
     "data": {
      "text/html": [
       "<div>\n",
       "<style scoped>\n",
       "    .dataframe tbody tr th:only-of-type {\n",
       "        vertical-align: middle;\n",
       "    }\n",
       "\n",
       "    .dataframe tbody tr th {\n",
       "        vertical-align: top;\n",
       "    }\n",
       "\n",
       "    .dataframe thead th {\n",
       "        text-align: right;\n",
       "    }\n",
       "</style>\n",
       "<table border=\"1\" class=\"dataframe\">\n",
       "  <thead>\n",
       "    <tr style=\"text-align: right;\">\n",
       "      <th></th>\n",
       "      <th>Price</th>\n",
       "    </tr>\n",
       "    <tr>\n",
       "      <th>Name</th>\n",
       "      <th></th>\n",
       "    </tr>\n",
       "  </thead>\n",
       "  <tbody>\n",
       "    <tr>\n",
       "      <th>keybord</th>\n",
       "      <td>1200</td>\n",
       "    </tr>\n",
       "    <tr>\n",
       "      <th>doll</th>\n",
       "      <td>900</td>\n",
       "    </tr>\n",
       "    <tr>\n",
       "      <th>i phone 12</th>\n",
       "      <td>30000</td>\n",
       "    </tr>\n",
       "  </tbody>\n",
       "</table>\n",
       "</div>"
      ],
      "text/plain": [
       "            Price\n",
       "Name             \n",
       "keybord      1200\n",
       "doll          900\n",
       "i phone 12  30000"
      ]
     },
     "execution_count": 16,
     "metadata": {},
     "output_type": "execute_result"
    }
   ],
   "source": [
    "df"
   ]
  }
 ],
 "metadata": {
  "kernelspec": {
   "display_name": "Python (MyEnv)",
   "language": "python",
   "name": "myenv"
  },
  "language_info": {
   "codemirror_mode": {
    "name": "ipython",
    "version": 3
   },
   "file_extension": ".py",
   "mimetype": "text/x-python",
   "name": "python",
   "nbconvert_exporter": "python",
   "pygments_lexer": "ipython3",
   "version": "3.13.3"
  }
 },
 "nbformat": 4,
 "nbformat_minor": 5
}
